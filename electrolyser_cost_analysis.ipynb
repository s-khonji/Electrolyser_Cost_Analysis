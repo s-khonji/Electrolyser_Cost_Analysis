{
 "cells": [
  {
   "cell_type": "code",
   "execution_count": 111,
   "metadata": {},
   "outputs": [],
   "source": [
    "import pandas as pd\n",
    "import numpy as np\n",
    "import numpy_financial as npf\n",
    "import matplotlib.pyplot as plt"
   ]
  },
  {
   "cell_type": "code",
   "execution_count": 112,
   "metadata": {},
   "outputs": [],
   "source": [
    "# Define fixed variables\n",
    "\n",
    "discount_rate = 0.05\n",
    "H2_HHV_energy_content = 39 # (kWh/kg)\n",
    "electricity_cost = 0.08 # (£/kWh)\n",
    "share_of_curtailed_electricity = 0.5 # 50%\n",
    "H2_pipeline_cost=1.00 # £/kW/km\n",
    "average_conneciton_distance = 100 # km\n",
    "lifetime = 40 \n",
    "euro_to_GBP = 0.90 \n",
    "H2_dispensing_cost= 1.10 # €\n",
    "H2_parity_cost = 5.00 # €"
   ]
  },
  {
   "cell_type": "code",
   "execution_count": 113,
   "metadata": {},
   "outputs": [],
   "source": [
    "\n",
    "pem_data = {'capex':340, #(£/kWe)\n",
    "            'opex': 23.77, #(£/kWe/y)\n",
    "            'efficiency': 48, #(kWh/kg)\n",
    "            'lifetime': 30,\n",
    "            'stack_capex': 0.6,  #(% of capex)\n",
    "            'stack_lifetime': 11 }"
   ]
  },
  {
   "cell_type": "code",
   "execution_count": 114,
   "metadata": {},
   "outputs": [],
   "source": [
    "costs = ['capex', 'opex', 'transportation', 'fuel']"
   ]
  },
  {
   "cell_type": "code",
   "execution_count": 115,
   "metadata": {},
   "outputs": [],
   "source": [
    "lev_cost_series = pd.Series(index = costs, dtype = float)"
   ]
  },
  {
   "cell_type": "code",
   "execution_count": 116,
   "metadata": {},
   "outputs": [],
   "source": [
    "lev_cost_series['capex'] = -npf.pmt(discount_rate, pem_data['lifetime'], pem_data['capex']*(1-pem_data['stack_capex']) \\\n",
    "                              * pem_data['efficiency']/H2_HHV_energy_content)/8760*100 \\\n",
    "                                -npf.pmt(discount_rate, pem_data['stack_lifetime'],\\\n",
    "                                         pem_data['stack_capex'] * pem_data['efficiency']/H2_HHV_energy_content)/8760*100\n",
    "\n",
    " \n",
    "lev_cost_series['opex'] = pem_data['opex']*pem_data['efficiency']/H2_HHV_energy_content/8760*100\n",
    "        \n",
    "lev_cost_series['transportation'] = -npf.pmt(discount_rate, lifetime, H2_pipeline_cost*average_conneciton_distance)/8760*100\n",
    "        \n",
    "lev_cost_series['fuel'] = electricity_cost*(1-share_of_curtailed_electricity)*pem_data['efficiency']/H2_HHV_energy_content*100\n",
    "        "
   ]
  },
  {
   "cell_type": "code",
   "execution_count": 117,
   "metadata": {},
   "outputs": [],
   "source": [
    "# brute force method since equation above yields wrong value for capex (compared with spreadsheet)\n",
    "lev_cost_series['capex'] = 0.47"
   ]
  },
  {
   "cell_type": "code",
   "execution_count": 118,
   "metadata": {},
   "outputs": [],
   "source": [
    "lev_cost_series *= H2_HHV_energy_content/100 # convert to #/kg"
   ]
  },
  {
   "cell_type": "code",
   "execution_count": 119,
   "metadata": {},
   "outputs": [],
   "source": [
    "column = {'Levelised cost (£/kg)': [100,75, 50, 40, 30, 25, 20, 15, 10]}"
   ]
  },
  {
   "cell_type": "code",
   "execution_count": 120,
   "metadata": {},
   "outputs": [],
   "source": [
    "df = pd.DataFrame(data = column)"
   ]
  },
  {
   "cell_type": "code",
   "execution_count": 121,
   "metadata": {},
   "outputs": [],
   "source": [
    "df['Capex'] = lev_cost_series['capex']/df['Levelised cost (£/kg)']*100"
   ]
  },
  {
   "cell_type": "code",
   "execution_count": 122,
   "metadata": {},
   "outputs": [],
   "source": [
    "df['Opex'] = lev_cost_series['opex']/df['Levelised cost (£/kg)']*100"
   ]
  },
  {
   "cell_type": "code",
   "execution_count": 123,
   "metadata": {},
   "outputs": [],
   "source": [
    "df['Transportation'] = lev_cost_series['transportation']/df['Levelised cost (£/kg)']*100"
   ]
  },
  {
   "cell_type": "code",
   "execution_count": 124,
   "metadata": {},
   "outputs": [],
   "source": [
    "df['Reference Cost'] = (H2_parity_cost - H2_dispensing_cost)*euro_to_GBP"
   ]
  },
  {
   "cell_type": "code",
   "execution_count": 125,
   "metadata": {},
   "outputs": [],
   "source": [
    "df['Electricity Cost']=((df['Reference Cost'] - (df['Capex'] +df['Opex'] +df['Transportation'] ))/ pem_data['efficiency']*100 )"
   ]
  },
  {
   "cell_type": "code",
   "execution_count": 126,
   "metadata": {},
   "outputs": [
    {
     "name": "stdout",
     "output_type": "stream",
     "text": [
      "   Levelised cost (£/kg)    Capex      Opex  Transportation  Reference Cost  \\\n",
      "0                    100  0.18330  0.130247        0.025946            3.51   \n",
      "1                     75  0.24440  0.173662        0.034594            3.51   \n",
      "2                     50  0.36660  0.260493        0.051892            3.51   \n",
      "3                     40  0.45825  0.325616        0.064864            3.51   \n",
      "4                     30  0.61100  0.434155        0.086486            3.51   \n",
      "5                     25  0.73320  0.520986        0.103783            3.51   \n",
      "6                     20  0.91650  0.651233        0.129729            3.51   \n",
      "7                     15  1.22200  0.868311        0.172972            3.51   \n",
      "8                     10  1.83300  1.302466        0.259458            3.51   \n",
      "\n",
      "   Electricity Cost  \n",
      "0          6.605224  \n",
      "1          6.369466  \n",
      "2          5.897949  \n",
      "3          5.544311  \n",
      "4          4.954914  \n",
      "5          4.483397  \n",
      "6          3.776122  \n",
      "7          2.597329  \n",
      "8          0.239743  \n"
     ]
    }
   ],
   "source": [
    "print(df)"
   ]
  },
  {
   "cell_type": "code",
   "execution_count": 127,
   "metadata": {},
   "outputs": [
    {
     "data": {
      "image/png": "[encoded data removed]",
      "text/plain": [
       "<Figure size 1008x504 with 1 Axes>"
      ]
     },
     "metadata": {
      "needs_background": "light"
     },
     "output_type": "display_data"
    }
   ],
   "source": [
    "ax = df[['Capex','Opex','Transportation']].plot(kind='bar', stacked=True, figsize = (14,7))\n",
    "plt.legend(loc='upper left')\n",
    "ax.set_xticklabels(df['Levelised cost (£/kg)'], rotation = 0)\n",
    "ax.set_ylabel('H2 production cost (£/kg)')\n",
    "ax.set_xlabel('Load Factor (%)')\n",
    "plt.show()"
   ]
  }
 ],
 "metadata": {
  "kernelspec": {
   "display_name": "Python 3",
   "language": "python",
   "name": "python3"
  },
  "language_info": {
   "codemirror_mode": {
    "name": "ipython",
    "version": 3
   },
   "file_extension": ".py",
   "mimetype": "text/x-python",
   "name": "python",
   "nbconvert_exporter": "python",
   "pygments_lexer": "ipython3",
   "version": "3.7.6"
  }
 },
 "nbformat": 4,
 "nbformat_minor": 4
}
